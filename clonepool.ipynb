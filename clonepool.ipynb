{
  "nbformat": 4,
  "nbformat_minor": 0,
  "metadata": {
    "colab": {
      "name": "clonepool.ipynb",
      "provenance": [],
      "toc_visible": true,
      "authorship_tag": "ABX9TyMvjDJ6hsBQOf0P//BjJrMo",
      "include_colab_link": true
    },
    "kernelspec": {
      "name": "python3",
      "display_name": "Python 3"
    }
  },
  "cells": [
    {
      "cell_type": "markdown",
      "metadata": {
        "id": "view-in-github",
        "colab_type": "text"
      },
      "source": [
        "<a href=\"https://colab.research.google.com/github/phiweger/clonepool/blob/googlecolab/clonepool.ipynb\" target=\"_parent\"><img src=\"https://colab.research.google.com/assets/colab-badge.svg\" alt=\"Open In Colab\"/></a>"
      ]
    },
    {
      "cell_type": "markdown",
      "metadata": {
        "id": "yDh_aGOE3gJM",
        "colab_type": "text"
      },
      "source": [
        "# Installation\n",
        "* needs to be done once click on the run button to install clonepool"
      ]
    },
    {
      "cell_type": "code",
      "metadata": {
        "id": "Y07Vq2jb3TVg",
        "colab_type": "code",
        "outputId": "38df49e2-14fc-4dae-daa8-b19a99b5a76d",
        "colab": {
          "base_uri": "https://localhost:8080/",
          "height": 442
        }
      },
      "source": [
        "!git clone https://github.com/phiweger/clonepool.git\n",
        "!cd clonepool/ && pip install -e .\n",
        "!clonepool"
      ],
      "execution_count": 0,
      "outputs": [
        {
          "output_type": "stream",
          "text": [
            "Cloning into 'clonepool'...\n",
            "remote: Enumerating objects: 400, done.\u001b[K\n",
            "remote: Counting objects: 100% (400/400), done.\u001b[K\n",
            "remote: Compressing objects: 100% (199/199), done.\u001b[K\n",
            "remote: Total 400 (delta 218), reused 372 (delta 195), pack-reused 0\u001b[K\n",
            "Receiving objects: 100% (400/400), 2.61 MiB | 2.40 MiB/s, done.\n",
            "Resolving deltas: 100% (218/218), done.\n",
            "Obtaining file:///content/clonepool\n",
            "Requirement already satisfied: click in /usr/local/lib/python3.6/dist-packages (from clonepool==0.1) (7.1.1)\n",
            "Requirement already satisfied: networkx in /usr/local/lib/python3.6/dist-packages (from clonepool==0.1) (2.4)\n",
            "Requirement already satisfied: numpy in /usr/local/lib/python3.6/dist-packages (from clonepool==0.1) (1.18.2)\n",
            "Requirement already satisfied: tqdm in /usr/local/lib/python3.6/dist-packages (from clonepool==0.1) (4.38.0)\n",
            "Requirement already satisfied: decorator>=4.3.0 in /usr/local/lib/python3.6/dist-packages (from networkx->clonepool==0.1) (4.4.2)\n",
            "Installing collected packages: clonepool\n",
            "  Running setup.py develop for clonepool\n",
            "Successfully installed clonepool\n",
            "Usage: clonepool [OPTIONS] COMMAND [ARGS]...\n",
            "\n",
            "Options:\n",
            "  --help  Show this message and exit.\n",
            "\n",
            "Commands:\n",
            "  layout    Generate pool layout.\n",
            "  simulate  For a given pool layout, simulate a...\n",
            "  resolve   Resolve sample status from pool...\n"
          ],
          "name": "stdout"
        }
      ]
    },
    {
      "cell_type": "markdown",
      "metadata": {
        "id": "WSA-ReYm6wBB",
        "colab_type": "text"
      },
      "source": [
        "# Generate layout \n",
        "* please change the command below and add for:\n",
        "  * `-n` the amount of samples that you have\n",
        "  * `-P` the estimated prevalence (proportion) of postives in your samples"
      ]
    },
    {
      "cell_type": "code",
      "metadata": {
        "id": "mYLZpQ9h61FW",
        "colab_type": "code",
        "outputId": "64eb4df7-0869-4b29-cd25-3664c2de5765",
        "colab": {
          "base_uri": "https://localhost:8080/",
          "height": 187
        }
      },
      "source": [
        "!clonepool layout -n 200 -P 5 layout.csv\n",
        "\n",
        "# checking out the new layout (first 10 lines)\n",
        "!head layout.csv"
      ],
      "execution_count": 0,
      "outputs": [
        {
          "output_type": "stream",
          "text": [
            "pool\tresult\tsamples\n",
            "0\t-\t10,34,37,139,153\n",
            "1\t-\t42,99,117,129,155\n",
            "2\t-\t61\n",
            "3\t-\t107,118,149,160,181\n",
            "4\t-\t32,106,188\n",
            "5\t-\t2,29,53,58,94\n",
            "6\t-\t23,121,161,185\n",
            "7\t-\t65,72,82,125,134\n",
            "8\t-\t42,135,152,157,178\n"
          ],
          "name": "stdout"
        }
      ]
    },
    {
      "cell_type": "markdown",
      "metadata": {
        "id": "unKeeUnJ9sWF",
        "colab_type": "text"
      },
      "source": [
        "* you can download the layout.csv for e.g. excel via:"
      ]
    },
    {
      "cell_type": "code",
      "metadata": {
        "id": "czKwGcfR9ylW",
        "colab_type": "code",
        "colab": {}
      },
      "source": [
        "from google.colab import files\n",
        "files.download('layout.csv')"
      ],
      "execution_count": 0,
      "outputs": []
    },
    {
      "cell_type": "markdown",
      "metadata": {
        "id": "XEVmJE4Z_q6_",
        "colab_type": "text"
      },
      "source": [
        "# Resolve Pools\n",
        "## Add positive pools after experiment\n",
        "* firstly we tell which pools are positive\n",
        "* Do this by adding the positive pool numbers down below \n",
        "  * should look like this but with your numbers `!positive_pools=\"0 25 33 11 44 45\" ` \n",
        "  * if everything is correct the output should show your numbers\n",
        "  "
      ]
    },
    {
      "cell_type": "code",
      "metadata": {
        "id": "4S2NvVDKKedA",
        "colab_type": "code",
        "outputId": "b90f7e9b-60c2-444c-f6a5-c4c2ac301d89",
        "colab": {
          "base_uri": "https://localhost:8080/",
          "height": 34
        }
      },
      "source": [
        "# please add your numbers here and press run (>)\n",
        "\n",
        "positive_pools = \"0 25 33 11 1 7\"\n",
        "\n",
        "print (positive_pools)"
      ],
      "execution_count": 0,
      "outputs": [
        {
          "output_type": "stream",
          "text": [
            "0 25 33 11 1 7\n"
          ],
          "name": "stdout"
        }
      ]
    },
    {
      "cell_type": "markdown",
      "metadata": {
        "id": "juPw686CUSMM",
        "colab_type": "text"
      },
      "source": [
        "## Calculate which samples are positive\n",
        "* run this to get the results\n",
        "* this takes a bit of time and shows you directly which samples are positive"
      ]
    },
    {
      "cell_type": "code",
      "metadata": {
        "id": "1Cc1FYlKURHb",
        "colab_type": "code",
        "outputId": "e135dc4b-bf3a-4fcc-88c6-0bb99a31d47f",
        "colab": {
          "base_uri": "https://localhost:8080/",
          "height": 68
        }
      },
      "source": [
        "#############\n",
        "# dont change this part below\n",
        "#############\n",
        "\n",
        "!rm layout_positives.csv\n",
        "pools = positive_pools.split()\n",
        "\n",
        "with open('layout.csv', 'r') as file :\n",
        "  filedata = file.read()\n",
        "\n",
        "for poolnumber in pools:\n",
        "    filedata = filedata.replace( poolnumber + '\\t-', poolnumber + '\\t+', 1)\n",
        "\n",
        "with open('layout_positives.csv', 'w') as file:\n",
        "  file.write(filedata)\n",
        "\n",
        "!clonepool resolve --layout layout_positives.csv results.csv\n",
        "!head -1 results.csv \n",
        "!cat results.csv | grep \"+\""
      ],
      "execution_count": 0,
      "outputs": [
        {
          "output_type": "stream",
          "text": [
            "Effective number of samples / test: 2.1277\n",
            "sample\tresult\n",
            "82\t+\n"
          ],
          "name": "stdout"
        }
      ]
    },
    {
      "cell_type": "markdown",
      "metadata": {
        "id": "ViQPyQO5Vclx",
        "colab_type": "text"
      },
      "source": [
        "## Download the full results\n",
        "* you can again download the results table if you whish via:"
      ]
    },
    {
      "cell_type": "code",
      "metadata": {
        "id": "0pXCbk7oVV0A",
        "colab_type": "code",
        "colab": {}
      },
      "source": [
        "from google.colab import files\n",
        "files.download('results.csv')"
      ],
      "execution_count": 0,
      "outputs": []
    }
  ]
}